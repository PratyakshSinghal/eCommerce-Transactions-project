{
 "cells": [
  {
   "cell_type": "code",
   "execution_count": 44,
   "id": "a8e2308a-9d5c-432f-bae3-22b470302ecf",
   "metadata": {},
   "outputs": [],
   "source": [
    "import pandas as pd\n",
    "import numpy as np\n",
    "from sklearn.metrics.pairwise import cosine_similarity\n",
    "from sklearn.preprocessing import StandardScaler\n",
    "from scipy.spatial.distance import euclidean"
   ]
  },
  {
   "cell_type": "code",
   "execution_count": 45,
   "id": "34a7082a-383e-4203-ab71-7fb04f56c321",
   "metadata": {},
   "outputs": [],
   "source": [
    "# Load the datasets\n",
    "customers = pd.read_csv('Customers.csv')\n",
    "products = pd.read_csv('Products.csv')\n",
    "\n",
    "# Merge datasets\n",
    "transactions_products = pd.merge(transactions, products, on='ProductID', how='left')\n",
    "merged_data = pd.merge(transactions_products, customers, on='CustomerID', how='left')\n"
   ]
  },
  {
   "cell_type": "code",
   "execution_count": 46,
   "id": "f00618c1-58d3-447a-8f4c-e40489454c8c",
   "metadata": {},
   "outputs": [],
   "source": [
    "customer_features = merged_data.groupby('CustomerID').agg(\n",
    "    total_spent=('TotalValue', 'sum'),\n",
    "    total_quantity=('Quantity', 'sum'),\n",
    "    unique_categories=('Category', lambda x: x.nunique()),\n",
    "    unique_products=('ProductID', lambda x: x.nunique()),\n",
    "    regions=('Region', 'first')\n",
    ").reset_index()\n"
   ]
  },
  {
   "cell_type": "code",
   "execution_count": 47,
   "id": "edbf9294-c3b8-4534-ab04-59db5c77017a",
   "metadata": {},
   "outputs": [],
   "source": [
    "customer_features = pd.get_dummies(customer_features, columns=['regions'], drop_first=True)\n"
   ]
  },
  {
   "cell_type": "code",
   "execution_count": 48,
   "id": "39f12991-b850-4839-9ddd-7ab89b50f756",
   "metadata": {},
   "outputs": [],
   "source": [
    "\n",
    "scaler = StandardScaler()\n",
    "features_scaled = scaler.fit_transform(customer_features.drop(columns=['CustomerID']))"
   ]
  },
  {
   "cell_type": "code",
   "execution_count": 49,
   "id": "880110a0-f73e-4948-aeec-a5681533fc14",
   "metadata": {},
   "outputs": [],
   "source": [
    "cos_sim_matrix = cosine_similarity(features_scaled)\n",
    "euclidean_distances = np.array([[euclidean(x, y) for y in features_scaled] for x in features_scaled])\n",
    "euclidean_sim_matrix = 1 / (1 + euclidean_distances)\n"
   ]
  },
  {
   "cell_type": "code",
   "execution_count": 50,
   "id": "389142a8-4102-4b73-b720-91239dbc7db4",
   "metadata": {},
   "outputs": [
    {
     "name": "stdout",
     "output_type": "stream",
     "text": [
      "Lookalike.csv created \n"
     ]
    }
   ],
   "source": [
    "lookalike_list = []\n",
    "for i, customer_id in enumerate(customer_features['CustomerID'][:20]):  # Consider the first 20 customers\n",
    "    # Cosine similarity\n",
    "    cos_sim_scores = [(customer_features['CustomerID'][j], cos_sim_matrix[i][j]) for j in range(len(customer_features))]\n",
    "    cos_sim_scores = sorted(cos_sim_scores, key=lambda x: x[1], reverse=True)\n",
    "    \n",
    "    euc_sim_scores = [(customer_features['CustomerID'][j], euclidean_sim_matrix[i][j]) for j in range(len(customer_features))]\n",
    "    euc_sim_scores = sorted(euc_sim_scores, key=lambda x: x[1], reverse=True)\n",
    "    \n",
    "    combined_scores = []\n",
    "    for j in range(len(customer_features)):\n",
    "        if customer_features['CustomerID'][j] != customer_id:  # Exclude self\n",
    "            combined_score = (cos_sim_matrix[i][j] + euclidean_sim_matrix[i][j]) / 2  # Average of both scores\n",
    "            combined_scores.append((customer_features['CustomerID'][j], combined_score))\n",
    "    combined_scores = sorted(combined_scores, key=lambda x: x[1], reverse=True)\n",
    "    \n",
    "    for k in range(3):\n",
    "        lookalike_list.append({\n",
    "            \"cust_id\": customer_id,\n",
    "            \"similar_cust_id\": combined_scores[k][0],\n",
    "            \"combined_similarity\": combined_scores[k][1],\n",
    "            \"cosine_similarity\": cos_sim_scores[k][1],\n",
    "            \"euclidean_similarity\": euc_sim_scores[k][1]\n",
    "        })\n",
    "\n",
    "# Save the results to Lookalike.csv\n",
    "lookalike_df = pd.DataFrame(lookalike_list)\n",
    "lookalike_df.to_csv('Lookalike.csv', index=False)\n",
    "\n",
    "print(\"Lookalike.csv created \")\n"
   ]
  },
  {
   "cell_type": "code",
   "execution_count": null,
   "id": "755ea345-5932-4c06-b73d-93c577664cd3",
   "metadata": {},
   "outputs": [],
   "source": []
  },
  {
   "cell_type": "code",
   "execution_count": null,
   "id": "805389cd-9a2f-4ed8-bddb-4e84dfb43ec8",
   "metadata": {},
   "outputs": [],
   "source": []
  }
 ],
 "metadata": {
  "kernelspec": {
   "display_name": "Python 3 (ipykernel)",
   "language": "python",
   "name": "python3"
  },
  "language_info": {
   "codemirror_mode": {
    "name": "ipython",
    "version": 3
   },
   "file_extension": ".py",
   "mimetype": "text/x-python",
   "name": "python",
   "nbconvert_exporter": "python",
   "pygments_lexer": "ipython3",
   "version": "3.11.9"
  }
 },
 "nbformat": 4,
 "nbformat_minor": 5
}
